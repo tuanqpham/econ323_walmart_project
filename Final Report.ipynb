{
 "cells": [
  {
   "cell_type": "markdown",
   "id": "75706b49-0505-4ded-8f14-f9db95ee1c63",
   "metadata": {},
   "source": [
    "## Factor Affecting The Weekly Walmart Sales\n",
    "### Introduction\n",
    "In this project we aim to predict Walmart's Weekly sales using the variables provided in the data set. Sales are an important component contributing to the success of an organization. High weekly sales improves the firm’s public image and demonstrates high levels of customer loyalty, and Walmart being one of North Americas biggest retailers, it will be interesting to see how loyal it's customers are and how certain variables are able to effect even big corporations like Walmart.\n",
    "\n",
    "The dataset was retrieved from Kaggle, provided by M. Yasser H. The dataset covers the sales from 2010 to 2012\n",
    "\n",
    "### Variables Used\n",
    "Output variable: Weekly_Sales\n",
    "\n",
    "Input variables: Temperature + Fuel_Price + CPI + Unemployment "
   ]
  },
  {
   "cell_type": "code",
   "execution_count": null,
   "id": "8dab398a-2f22-4798-9d42-1a420e3167e2",
   "metadata": {},
   "outputs": [],
   "source": []
  }
 ],
 "metadata": {
  "kernelspec": {
   "display_name": "Python 3 (ipykernel)",
   "language": "python",
   "name": "python3"
  },
  "language_info": {
   "codemirror_mode": {
    "name": "ipython",
    "version": 3
   },
   "file_extension": ".py",
   "mimetype": "text/x-python",
   "name": "python",
   "nbconvert_exporter": "python",
   "pygments_lexer": "ipython3",
   "version": "3.10.9"
  }
 },
 "nbformat": 4,
 "nbformat_minor": 5
}
