{
 "cells": [
  {
   "cell_type": "markdown",
   "id": "75706b49-0505-4ded-8f14-f9db95ee1c63",
   "metadata": {},
   "source": [
    "## Factor Affecting The Weekly Walmart Sales\n",
    "### Introduction\n",
    "In this project we aim to predict Walmart's Weekly sales using the variables provided in the data set. Sales are an important component contributing to the success of an organization. High weekly sales improves the firm’s public image and demonstrates high levels of customer loyalty, and Walmart being one of North Americas biggest retailers, it will be interesting to see how loyal it's customers are and how certain variables are able to effect even big corporations like Walmart.\n",
    "\n",
    "\n",
    "#### Background\n",
    "Walmart is one of the largest retail corporations globally, known for its extensive network of stores and diverse product offerings. With its widespread presence and market influence, understanding and predicting sales trends is crucial for the company's success.\n",
    "#### Research Question\n",
    "#### Factor affecting Sales\n",
    "Several factors can impact the sales of a firm like Walmart. These factors include macroeconomic conditions, such as GDP growth and consumer confidence, as well as industry-specific factors like competition, pricing strategies, marketing efforts, and supply chain efficiency. Additionally, external factors like seasonality, holidays, employment rate and weather conditions can also influence sales.\n",
    "#### Significance \n",
    "The significance of this work for walmart lies in the ability to have a data-driven analysis to make informed decisions and optimize business operations. By accurately predicting weekly sales, Walmart can improve inventory management, optimize staffing levels, tailor promotional strategies, and enhance overall efficiency. Furthermore, by identifying key factors that impact sales, walmart can proactively respond to market dynamics, mitigate risks, and capitalize on emerging opportunities, which can help Walmart increase profitability and maintain a competitive edge in the retail industry.\n",
    "#### Dataset\n",
    "The dataset was retrieved from Kaggle, provided by M. Yasser H. The dataset covers Walmart sales from 2010 to 2012\n",
    "#### Variables Used\n",
    "Output variable: Weekly_Sales\n",
    "\n",
    "Input variables: Temperature + Fuel_Price + CPI + Unemployment \n",
    "\n",
    "### Methods:"
   ]
  },
  {
   "cell_type": "code",
   "execution_count": 55,
   "id": "8dab398a-2f22-4798-9d42-1a420e3167e2",
   "metadata": {
    "tags": []
   },
   "outputs": [],
   "source": [
    "import numpy as np\n",
    "import pandas as pd\n",
    "import matplotlib.pyplot as plt\n",
    "import math \n",
    "import os\n",
    "import csv"
   ]
  },
  {
   "cell_type": "code",
   "execution_count": 57,
   "id": "debd960e-c060-45a0-bf4d-9631de7d5527",
   "metadata": {
    "tags": []
   },
   "outputs": [
    {
     "data": {
      "text/html": [
       "<div>\n",
       "<style scoped>\n",
       "    .dataframe tbody tr th:only-of-type {\n",
       "        vertical-align: middle;\n",
       "    }\n",
       "\n",
       "    .dataframe tbody tr th {\n",
       "        vertical-align: top;\n",
       "    }\n",
       "\n",
       "    .dataframe thead th {\n",
       "        text-align: right;\n",
       "    }\n",
       "</style>\n",
       "<table border=\"1\" class=\"dataframe\">\n",
       "  <thead>\n",
       "    <tr style=\"text-align: right;\">\n",
       "      <th></th>\n",
       "      <th>Store</th>\n",
       "      <th>Date</th>\n",
       "      <th>Weekly_Sales</th>\n",
       "      <th>Holiday_Flag</th>\n",
       "      <th>Temperature</th>\n",
       "      <th>Fuel_Price</th>\n",
       "      <th>CPI</th>\n",
       "      <th>Unemployment</th>\n",
       "    </tr>\n",
       "  </thead>\n",
       "  <tbody>\n",
       "    <tr>\n",
       "      <th>0</th>\n",
       "      <td>1</td>\n",
       "      <td>05-02-2010</td>\n",
       "      <td>1643690.90</td>\n",
       "      <td>0</td>\n",
       "      <td>42.31</td>\n",
       "      <td>2.572</td>\n",
       "      <td>211.096358</td>\n",
       "      <td>8.106</td>\n",
       "    </tr>\n",
       "    <tr>\n",
       "      <th>1</th>\n",
       "      <td>1</td>\n",
       "      <td>12-02-2010</td>\n",
       "      <td>1641957.44</td>\n",
       "      <td>1</td>\n",
       "      <td>38.51</td>\n",
       "      <td>2.548</td>\n",
       "      <td>211.242170</td>\n",
       "      <td>8.106</td>\n",
       "    </tr>\n",
       "    <tr>\n",
       "      <th>2</th>\n",
       "      <td>1</td>\n",
       "      <td>19-02-2010</td>\n",
       "      <td>1611968.17</td>\n",
       "      <td>0</td>\n",
       "      <td>39.93</td>\n",
       "      <td>2.514</td>\n",
       "      <td>211.289143</td>\n",
       "      <td>8.106</td>\n",
       "    </tr>\n",
       "    <tr>\n",
       "      <th>3</th>\n",
       "      <td>1</td>\n",
       "      <td>26-02-2010</td>\n",
       "      <td>1409727.59</td>\n",
       "      <td>0</td>\n",
       "      <td>46.63</td>\n",
       "      <td>2.561</td>\n",
       "      <td>211.319643</td>\n",
       "      <td>8.106</td>\n",
       "    </tr>\n",
       "    <tr>\n",
       "      <th>4</th>\n",
       "      <td>1</td>\n",
       "      <td>05-03-2010</td>\n",
       "      <td>1554806.68</td>\n",
       "      <td>0</td>\n",
       "      <td>46.50</td>\n",
       "      <td>2.625</td>\n",
       "      <td>211.350143</td>\n",
       "      <td>8.106</td>\n",
       "    </tr>\n",
       "  </tbody>\n",
       "</table>\n",
       "</div>"
      ],
      "text/plain": [
       "   Store        Date  Weekly_Sales  Holiday_Flag  Temperature  Fuel_Price  \\\n",
       "0      1  05-02-2010    1643690.90             0        42.31       2.572   \n",
       "1      1  12-02-2010    1641957.44             1        38.51       2.548   \n",
       "2      1  19-02-2010    1611968.17             0        39.93       2.514   \n",
       "3      1  26-02-2010    1409727.59             0        46.63       2.561   \n",
       "4      1  05-03-2010    1554806.68             0        46.50       2.625   \n",
       "\n",
       "          CPI  Unemployment  \n",
       "0  211.096358         8.106  \n",
       "1  211.242170         8.106  \n",
       "2  211.289143         8.106  \n",
       "3  211.319643         8.106  \n",
       "4  211.350143         8.106  "
      ]
     },
     "execution_count": 57,
     "metadata": {},
     "output_type": "execute_result"
    }
   ],
   "source": [
    "data = pd.read_csv(\"https://raw.githubusercontent.com/tuanqpham/toy_ds_project/main/Walmart.csv\")\n",
    "data.head()"
   ]
  },
  {
   "cell_type": "code",
   "execution_count": null,
   "id": "7c2a3364-4fd2-4dc6-a6a1-602c0072b5fa",
   "metadata": {},
   "outputs": [],
   "source": []
  }
 ],
 "metadata": {
  "kernelspec": {
   "display_name": "Python 3 (ipykernel)",
   "language": "python",
   "name": "python3"
  },
  "language_info": {
   "codemirror_mode": {
    "name": "ipython",
    "version": 3
   },
   "file_extension": ".py",
   "mimetype": "text/x-python",
   "name": "python",
   "nbconvert_exporter": "python",
   "pygments_lexer": "ipython3",
   "version": "3.10.9"
  }
 },
 "nbformat": 4,
 "nbformat_minor": 5
}
